{
  "nbformat": 4,
  "nbformat_minor": 0,
  "metadata": {
    "colab": {
      "provenance": []
    },
    "kernelspec": {
      "name": "python3",
      "display_name": "Python 3"
    },
    "language_info": {
      "name": "python"
    }
  },
  "cells": [
    {
      "cell_type": "markdown",
      "source": [
        "1. What are data structures, and why are they important?\n",
        "-  In python, data structures are pre- built or custom implementations that organize and manage data for efficient operations.\n",
        "- Python provides both built-in data structures and the flexibility to create user-defined ones.\n",
        "- Built-in Data Structures in python include lists, tuples, dictionaries and sets.\n",
        "- Lists are the mutable ordered collections.\n",
        "  e.g.: my_list = [1,2,3]\n",
        "- Tuples are the immutable, ordered collections.\n",
        "  e.g.: my_tuple = (1,2,3)\n",
        "-Dictionaries are mutable and provide key to value pairs.\n",
        "  e.g.: my_dict = {\"Name\":\"Ram\", \"Marks\":\"50\"}\n",
        "- Sets are unordered and unique elements. Duplicates are removed in a set.\n",
        "  e.g.: my_set = {1,2,3,4}\n",
        "\n",
        "- They are important because:\n",
        "   - They provide efficient data operations. Python's built-in data structures like dictionaries allow for quick insertions and deletions.\n",
        "  - They optimize memory and CPU usage.\n",
        "  - They are highly versatile and hence are suitable for many use cases without requiring additional implementation."
      ],
      "metadata": {
        "id": "5nK5eR-z28yF"
      }
    },
    {
      "cell_type": "markdown",
      "source": [
        "2.  Explain the difference between mutable and immutable data types with examples\n",
        "- Mutable data types:\n",
        "  - They can have their values changed or modified after their creation.\n",
        "  - e.g.: lists, dicionaries, sets, etc.\n",
        "  - Mutability allows flexibility in the program.\n",
        "  - These are not hashable.\n",
        "  - The efficiency is less for read only operations.\n",
        "  - It may cause unintended side effects.\n",
        "\n",
        "- Immutable data types:\n",
        "  - They cannot have their values changed once created.\n",
        "  - e.g.: Tuples, frozen sets.\n",
        "  - These are hashable if all the components are immutable.\n",
        "  - The efficiency is more for read only operations.\n",
        "  - It is safer for multi- threading and functional programming.\n"
      ],
      "metadata": {
        "id": "UCJHDV8C5_fV"
      }
    },
    {
      "cell_type": "markdown",
      "source": [
        "3. What are the main differences between lists and tuples in Python?\n",
        "- The main differences between lists and tuples in python are based upon the following aspects:\n",
        "  - Mutablility: Lists are mutable (can be modified) while tuples are not (cannot be modified).\n",
        "  - Syntax: Lists are defined using square brackets[] while tuples are defined using parenthesis().\n",
        "  - Performance: Lists are slower due to mutability aspect. Tuples are faster due to immutability.\n",
        "  - Use case: Lists are suitable for dynamic data and tuples are best suited for fixed, read-only data.\n",
        "  - Memory usage: lists use more memory and tuples use less memory overhead.\n",
        "  - Hashability: Lists are not hashable (cannot be dictionary keys) whereas tuples are hashable.\n",
        "  - Iterating speed: Lists are slower while tuples are faster when compared to one another.\n",
        "  "
      ],
      "metadata": {
        "id": "HrCkw2C_RVak"
      }
    },
    {
      "cell_type": "markdown",
      "source": [
        "4. Describe how dictionaries store data.\n",
        "- In python, dictionaries store data as key-value pairs and use a data structure called a hash table to enable fast access, insertion and deletion operations.\n",
        "- Hash Table:\n",
        "  - A hash table is a data structure that maps keys to values using a process called hashing.\n",
        "  - Each key in a dictionary is passed through a hash function to compute a unique hash value (an integer).\n",
        "  - This hash value determines the position (or \"bucket\") in memory where the value associated with the key will be stored.\n",
        "  - The key is hashed using Python's built-in hash function (hash()), producing a unique integer.\n",
        "  - key = \"name\"\n",
        "    hash_value = hash(key)  \n",
        "\n",
        "- Key-Value Pairs:\n",
        "  - A dictionary stores data as pairs: {key: value}.\n",
        "  - The key must be unique and immutable (e.g., strings, numbers, tuples). The value can be any type, including mutable types like lists or other dictionaries.\n",
        "\n",
        "- Buckets:\n",
        "  - The hash table is divided into multiple slots or \"buckets.\"\n",
        "  - Each bucket stores the key-value pair, and the hash value helps find the correct bucket.\n",
        "\n",
        "- Collisions:\n",
        "  - If two keys produce the same hash value (called a collision), Python uses a technique called open addressing or chaining to resolve it. - This ensures all key-value pairs are stored and retrievable.\n",
        "\n",
        "- Dictionaries use a hash table to store key-value pairs, enabling fast lookups, insertions, and deletions.\n",
        "- Keys are hashed, and the resulting hash values determine their storage location.\n",
        "- Python handles collisions gracefully, ensuring that all key-value pairs are stored and retrievable efficiently."
      ],
      "metadata": {
        "id": "SVT-tAbmTAhk"
      }
    },
    {
      "cell_type": "markdown",
      "source": [
        "5. Why might you use a set instead of a list in Python?\n",
        "- A set instead of a list is used in situations where certain characteristics of sets provide advantages over lists.\n",
        "- Uniqueness of elements\n",
        "  - A set automatically ensures that all elements are unique. Duplicates are not allowed.\n",
        "  - A list on the other hand allows duplicates and requires additional efforet to removw them.\n",
        "- Faster testing of members\n",
        "  - Membership tests (in and not in) are very fast while list takes time.\n",
        "- Set Operations:\n",
        "  - Set supports various mathematical operations like union, intersecton, difference and symmetric difference.\n",
        "  - List on the other hand does not directly support these functions unless coded otherwise.\n",
        "- Memory efficiency:\n",
        "  - Sets use hash table for storage which is more memory-efficient for large collections with unique items.\n",
        "  - Lists require more memory when dealing with large datasets that need frequent membership tests or uniqueness.\n",
        "- Immutability of frozenset:  \n",
        "  - Sets can be made immutable using frozenset, which can then be used as dictionary keys or stored in other sets.\n",
        "  - Lists cannot be made immutable and are not hashable.\n",
        "- Sets should be used:\n",
        "  - When uniqueness of elements is required.\n",
        "  Example: Storing a list of unique user IDs.\n",
        "  - When frequent membership testing is needed.\n",
        "  Example: Checking if an item exists in a large dataset.\n",
        "  - When performing set operations like union, intersection, and difference.\n",
        "  Example: Comparing tags or attributes in datasets.\n"
      ],
      "metadata": {
        "id": "h7dHihkKUhLV"
      }
    },
    {
      "cell_type": "markdown",
      "source": [
        "6. What is a string in Python, and how is it different from a list?\n",
        "- A string in Python is a sequence of characters enclosed within single quotes ('), double quotes (\"), or triple quotes (''' or \"\"\").\n",
        "- Strings are immutable, meaning their contents cannot be changed after they are created.\n",
        "- A string is a sequence of characters while a list is a sequence of elements.\n",
        "- string is immutable while lists are mutable.\n",
        "- String only contains text data (characters) while lists can contain any data type.\n",
        "- Strings are enclosed in quotes(',\",''',\"\"\") whereas lists are enclosed in [].\n",
        "- Strings support string specific operations like concatenation, slicing, etc while lists support list specific operations like append, remove, indexing etc.\n",
        "- Strings are primarily used for textual data and lists are used for collection of elements, regardless of the type.\n"
      ],
      "metadata": {
        "id": "LKLtsrSX8cFZ"
      }
    },
    {
      "cell_type": "markdown",
      "source": [
        "7. How do tuples ensure data integrity in Python?\n",
        "- Tuples in python ensure data integrity by having the following features:\n",
        "  - Immutablity:\n",
        "    - Tuples are immutable, meaning their content cannot be altered after creation. This ensures the original data remains intact throughout the program's lifecycle.\n",
        "  - Hashablity\n",
        "    - Tuples are hashable (as long as their elements are also hashable). This means they can be used as keys in dictionaries or elements in sets, ensuring the integrity of the data structure where they are stored.\n",
        "  - Protection Against Accidental\n",
        "    Modification\n",
        "     - Since tuples cannot be modified, you can't accidentally alter data during program execution, making them a reliable choice for storing fixed data like configuration settings or constant values.\n",
        "  - Consistency in Data Representation:\n",
        "    - Tuples maintain the same structure throughout their lifespan. This is useful when you need to ensure that data conforms to a specific format."
      ],
      "metadata": {
        "id": "oCkEHC5P9_-x"
      }
    },
    {
      "cell_type": "markdown",
      "source": [
        "8. What is a hash table, and how does it relate to dictionaries in Python?\n",
        "- A hash table is a data structure that maps keys to values using a process called hashing. It is designed for efficient data retrieval, making operations like lookup, insertion, and deletion very fast, typically with an average-case time complexity of O(1).\n",
        "- Relation to Dictionaries in Python\n",
        "  - In Python, dictionaries are implemented as hash tables. They map keys to values using hashing, enabling fast lookups, insertions, and deletions.\n",
        "\n",
        "- Key Features of Dictionaries and Their\n",
        "  Relation to Hash Tables:\n",
        "  - Hashing:\n",
        "    - Each key in a dictionary is hashed to determine where it should be stored in the hash table.\n",
        "    - Python uses a highly optimized hash function for this purpose.\n",
        "- Keys and Values:\n",
        "    - Keys in a dictionary must be immutable and hashable (e.g., strings, numbers, tuples).\n",
        "    - Values can be of any type.\n",
        "-  Fast Access:\n",
        "   - Due to the hash table structure, retrieving a value by its key is very fast (average-case O(1)).\n",
        "- Collision Resolution:\n",
        "   - Python handles hash collisions internally, ensuring that all key-value pairs are stored and retrievable.\n",
        "- A hash table is the foundation of Python dictionaries, allowing them to provide fast and efficient storage, retrieval, and updates of key-value pairs. The use of hashing ensures that dictionaries are a highly optimized data structure, suitable for scenarios where speed and efficiency are crucial.\n",
        "\n"
      ],
      "metadata": {
        "id": "ZNENTlPK-zgM"
      }
    },
    {
      "cell_type": "markdown",
      "source": [
        "9. Can lists contain different data types in Python?\n",
        "- Yes, lists in Python can contain different data types.\n",
        "- Python lists are highly flexible and can store elements of any type, including integers, floats, strings, other lists, tuples, dictionaries, or even custom objects.\n",
        "- This makes them a powerful and versatile data structure.\n",
        "- Python is a dynamically typed language, which means variables do not have a fixed data type, and the same applies to list elements.\n",
        "- Lists in Python are essentially containers that can hold objects of any type since all data in Python is represented as objects.\n",
        "- Lists in Python are highly flexible and can store elements of different data types.\n",
        "- While this provides great versatility, it is essential to ensure clarity and consistency in how the list is used to avoid issues with readability and operations.\n",
        "\n",
        "\n",
        "\n",
        "\n",
        "\n",
        "\n"
      ],
      "metadata": {
        "id": "LAaAEs04_4Zb"
      }
    },
    {
      "cell_type": "markdown",
      "source": [
        "10. Explain why strings are immutable in Python.\n",
        "- In Python, strings are immutable, meaning their content cannot be changed once created.\n",
        "- This is a deliberate design decision in Python and is common in many programming languages because immutability provides significant advantages in terms of performance, memory efficiency, and program reliability.\n",
        "- Memory Efficiency\t: String interning reduces memory usage by reusing identical string objects.\n",
        "- Hashability\t:Immutability makes strings reliable as dictionary keys and set elements.\n",
        "- Thread-Safety\t:Multiple threads can safely access the same string without interference.\n",
        "- Reliability\t:Prevents accidental or unintended modifications to string content.\n",
        "- Security\t:Immutable strings cannot be altered maliciously.\n",
        "- Performance\t:Optimized for caching, slicing, and reuse without unexpected side effects.\n",
        "- By keeping strings immutable, Python achieves greater optimization, avoids bugs caused by accidental changes, and allows strings to be used in contexts where consistency and reliability are essential."
      ],
      "metadata": {
        "id": "xfI6mIcaaTeZ"
      }
    },
    {
      "cell_type": "markdown",
      "source": [
        "11. What advantages do dictionaries offer over lists for certain tasks?\n",
        "- Dictionaries and lists are both fundamental data structures in Python, but they serve different purposes. -\n",
        "\n",
        "- Dictionaries offer significant advantages over lists for specific tasks, particularly when dealing with key-value pair data and quick lookups.\n",
        "- Faster Lookups:\n",
        "  - Dictionaries provide an average time complexity of O(1) for accessing a value by its key due to the underlying hash table implementation.\n",
        "  - Lists, on the other hand, require an O(n) linear search to find an element, as they have no concept of key-based indexing.\n",
        "-  Key-Value Pair Storage:\n",
        "   - Dictionaries allow data to be stored as key-value pairs, enabling intuitive and meaningful access.\n",
        "   - Lists are typically used for sequential data storage without a key-value relationship.\n",
        "- No Duplicates in Keys:\n",
        "  - Dictionaries do not allow duplicate keys. If you try to insert a duplicate key, the old value will be replaced.\n",
        "  - Lists allow duplicates, which can cause ambiguities when searching or processing data.\n",
        "- Improved Readability and Code Organization:\n",
        "  - Using dictionaries enhances code readability when the data has a natural key-value relationship.\n",
        "  - Lists can become unwieldy when handling complex data.\n",
        "- Efficient Membership Testing:\n",
        "  - Dictionaries allow fast membership testing using the in keyword, with an O(1) time complexity.\n",
        "  - In lists, membership testing takes O(n) time because each element must be checked sequentially.\n",
        "- Dynamic Updates\n",
        "  - Dictionaries allow dynamic addition, modification, or deletion of key-value pairs with constant time complexity.\n",
        "  - Lists require careful index handling and searching for similar tasks.\n",
        "- Use in Data Grouping and Aggregation\n",
        "  - Dictionaries excel when you need to group, aggregate, or count data based on specific keys.\n",
        "- Dictionaries offer significant advantages over lists for tasks that require key-based access, fast lookups, and organized, non-redundant storage of data.\n",
        "-  While lists are excellent for sequential data, dictionaries are the preferred choice when working with key-value relationships or when speed is critical."
      ],
      "metadata": {
        "id": "tiTVHmiTcjWU"
      }
    },
    {
      "cell_type": "markdown",
      "source": [
        "12. Describe a scenario where using a tuple would be preferable over a list.\n",
        "- A tuple is preferable over a list when you want to ensure that the data remains unchanged (immutable) throughout the program's execution.\n",
        "- Tuples are immutable, meaning their contents cannot be modified, which makes them ideal for scenarios where data integrity and safety are critical.\n",
        "- Scenario: Storing Coordinates of a Point\n",
        "  - Imagine you are developing a program that works with a graph or map system where you need to store the coordinates (x, y) of a point. In such cases, using a tuple is preferable because the coordinates should remain unchanged after being set.\n",
        "\n",
        "- Why Tuples Are Better for This Case\n",
        "Immutability:\n",
        "  - Once created, the tuple's values cannot be accidentally modified, ensuring data integrity.\n",
        "  - For example, coordinates (2, 3) represent a fixed point and should not be altered.\n",
        "\n",
        "- Performance:\n",
        "  - Tuples are faster than lists for read-only operations since they use less memory and have simpler underlying data structures.\n",
        "\n",
        "- Hashability:\n",
        "  - Tuples are hashable, which means they can be used as keys in a dictionary or elements in a set. Lists, being mutable, cannot.\n",
        "- Advantages of Using a Tuple in This Scenario\n",
        "  - Prevents Accidental Changes:\n",
        "Coordinates are fixed values that should not be modified. Tuples enforce immutability.\n",
        "\n",
        "  - Faster Access:\n",
        "Tuples are more memory-efficient and faster to access compared to lists.\n",
        "\n",
        "  - Use as Dictionary Keys:\n",
        "Tuples can act as keys in dictionaries because they are hashable, allowing efficient lookups.\n",
        "\n",
        "  - Improved Code Clarity:\n",
        "Using a tuple signals to other developers that the data is constant and should not change.\n",
        "- Using a tuple to store immutable data, such as coordinates, ensures data integrity, better performance, and allows use in hash-based collections like dictionaries. In scenarios where the data must remain constant, tuples are a safer and more efficient choice than lists."
      ],
      "metadata": {
        "id": "eEUnmzD0dtzw"
      }
    },
    {
      "cell_type": "markdown",
      "source": [
        "13.  How do sets handle duplicate values in Python?\n",
        "- In Python, sets are an unordered collection of unique elements. This uniqueness property means that sets automatically eliminate duplicate values when you try to add them.\n",
        "\n",
        "- Key Behavior of Sets Regarding\n",
        "  - Duplicates\n",
        "    - No Duplicates Allowed:\n",
        "    If you attempt to add duplicate values to a set, Python automatically removes duplicates, keeping only one instance of each unique value.\n",
        "\n",
        "  - Hashing Mechanism:\n",
        "    - Sets use hashing to determine the uniqueness of elements. Only hashable objects (like integers, strings, and tuples) can be added to a set. Unhashable objects like lists or dictionaries cannot be added.\n",
        "\n",
        "  - Insertion Ignored for Duplicates:\n",
        "    - When adding a duplicate value to a set, the operation is essentially ignored, and the set remains unchanged.\n",
        "- Why Sets Remove Duplicates\n",
        "Sets are implemented using hash tables, where each element's hash value determines its position in the set.\n",
        "Duplicate elements have the same hash value, so they cannot coexist in the same set.\n",
        "\n",
        "- Sets in Python automatically handle duplicates by removing them and retaining only unique elements. This behavior is enforced by the hashing mechanism used in set implementation, making sets ideal for tasks where duplicate values need to be eliminated, such as filtering or performing mathematical operations like union and intersection."
      ],
      "metadata": {
        "id": "pE77aePae3HN"
      }
    },
    {
      "cell_type": "markdown",
      "source": [
        "14. How does the “in” keyword work differently for lists and dictionaries?\n",
        "- The in keyword in Python is used to check membership — whether an element exists in a collection (like lists, dictionaries, sets, etc.). However, the way it works differs for lists and dictionaries due to the underlying data structures.\n",
        "-  in Keyword for Lists\n",
        "  - In lists, the in keyword checks for membership by iterating through all the elements sequentially.\n",
        "  - This process has a time complexity of O(n), where n is the number of elements in the list.\n",
        "  - The operation checks each element one by one until a match is found or the entire list is exhausted.\n",
        "\n",
        "- in Keyword for Dictionaries\n",
        "  - In dictionaries, the in keyword checks for the existence of keys only, not values.\n",
        "  - The check is done using a hash table, which makes it much faster than lists.\n",
        "  - The time complexity is O(1) on average because dictionaries use hashing to map keys to their corresponding values.\n",
        "  - The in keyword does not look at dictionary values directly.\n",
        "- For lists, the in keyword performs a slow, linear search through all elements (O(n)).\n",
        "- For dictionaries, the in keyword quickly checks for the presence of a key using a hash table (O(1)). To check for values, you need to use .values().\n",
        "- This difference makes dictionaries much more efficient for membership testing when working with keys."
      ],
      "metadata": {
        "id": "m_4fZEuRfJdS"
      }
    },
    {
      "cell_type": "markdown",
      "source": [
        "15. Can you modify the elements of a tuple? Explain why or why not.\n",
        "- No, the elements of a tuple cannot be modified in Python because tuples are immutable. Once a tuple is created, its elements cannot be changed, reassigned, or removed.\n",
        "- Tuples are immutable because of their design choice, performance and hashability.\n",
        "- Tuples are immutable that is no element can be added, deleted or modified after its creation.\n",
        "- Tuples are immutable because it ensures data integrity, allows for optimization, and makes tuples hashable.\n",
        "- If a tuple contains a mutable object like a list, the mutable object can still be modified but the basic structure cannot change.\n",
        ""
      ],
      "metadata": {
        "id": "5pBxgmZif6Ke"
      }
    },
    {
      "cell_type": "markdown",
      "source": [
        "16. What is a nested dictionary, and give an example of its use case?\n",
        "- A nested dictionary is a dictionary that contains another dictionary (or dictionaries) as one or more of its values. In Python, dictionaries can hold any data type as values, including other dictionaries, which creates a nested structure."
      ],
      "metadata": {
        "id": "K3hCS4eUkxbZ"
      }
    },
    {
      "cell_type": "markdown",
      "source": [
        "17. Describe the time complexity of accessing elements in a dictionary.\n",
        "- In Python, dictionaries are implemented using a hash table. The time complexity for accessing elements in a dictionary depends on the following operations:\n",
        "\n",
        "- Best and Average Case: O(1)\n",
        "\n",
        "- Accessing an element in a dictionary (by its key) has an average time complexity of O(1) (constant time).\n",
        "This is because the dictionary uses hashing to locate the key quickly without searching through all the elements.\n",
        "Worst Case: O(n)\n",
        "\n",
        "- In rare cases, accessing elements in a dictionary can take O(n) time due to hash collisions, where multiple keys map to the same hash value.\n",
        "- In such cases, Python resolves the collision using techniques like chaining (storing multiple values in a list for the same hash). If the dictionary is highly unbalanced (all keys map to the same bucket), it could degrade to O(n).\n",
        "How Dictionary Access Works (Hash Table Mechanism)\n",
        "- When you access a key in a dictionary, Python performs the following steps:\n",
        "\n",
        "- Compute the Hash:\n",
        "  - Python computes the hash value of the key using the hash() function.\n",
        "- Locate the Bucket:\n",
        "  - The hash value determines the bucket (or slot) where the key-value pair is stored.\n",
        "- Key Comparison:\n",
        "  -If multiple keys hash to the same bucket (hash collision), Python compares the keys to find the exact match.\n",
        "- Return the Value:\n",
        "  - Once the key is found, the corresponding value is returned.\n"
      ],
      "metadata": {
        "id": "9Gq7zgrLnfcN"
      }
    },
    {
      "cell_type": "markdown",
      "source": [
        "18. In what situations are lists preferred over dictionaries\n",
        "- While dictionaries offer quick lookups and are efficient for key-value pairs, lists are more suitable in situations in:\n",
        "  - output matters.\n",
        "  - Index- based access.\n",
        "  - Simplicity\n",
        "  - Duplicate values are allowed.\n",
        "  - When memory usage is a concern.\n",
        "  - Iteration of simple data.\n",
        "  - Use in stacks and queues.\n",
        "  -  Sorting and manipulation.\n",
        "- Lists are preferred when you need ordered, index-based access to data, as they allow sequential processing and efficient retrieval by position.\n",
        "- They are simpler and more memory-efficient than dictionaries, making them ideal for storing collections of items without descriptive keys.\n",
        "- Lists also allow duplicate values, making them suitable for scenarios where repeated elements are required.\n",
        "- Additionally, they excel in tasks involving sorting, slicing, and manipulation, such as implementing stacks or queues.\n",
        "- Conversely, dictionaries are better suited for cases requiring key-value pairs, fast lookups, or descriptive data storage, but they consume slightly more memory due to their hashing mechanism and unique key requirement.\n",
        "- For simple and straightforward data handling, lists are often the better choice."
      ],
      "metadata": {
        "id": "xAFeBkSUoN2_"
      }
    },
    {
      "cell_type": "markdown",
      "source": [
        "19. Why are dictionaries considered unordered, and how does that affect data retrieval?\n",
        "- Earlier, dictionaries in Python were considered unordered collections because they did not maintain the insertion order of their keys.\n",
        "- The internal structure of dictionaries is based on hash tables, which store elements in slots determined by the hash value of the keys.\n",
        "- This hashing mechanism prioritizes efficient data retrieval over maintaining order.\n",
        "- Starting with Python 3.7, dictionaries preserve the order of key insertion as an implementation detail of CPython, which later became part of the official Python language specification.\n",
        "- However, this is an enhancement for usability; the dictionary's core principle remains focused on key-value mapping and efficient lookups, not sorting or ordering.\n",
        "- Data retrieval is key-based, not position-based, which ensures fast access (O(1)) but no support for indexing or slicing.\n",
        "- The order preservation is useful for iteration, but dictionaries remain primarily designed for mapping keys to values efficiently.\n",
        "\n",
        "\n"
      ],
      "metadata": {
        "id": "8uQBMQ4xcKor"
      }
    },
    {
      "cell_type": "markdown",
      "source": [
        "20. Explain the difference between a list and a dictionary in terms of data retrieval.\n",
        "- Lists:\n",
        "  - Stores elements sequentially by index.\n",
        "  - Elements are accessed by their position (index).\n",
        "  - It requires integer- based indices.\n",
        "  - Accessing an element by index is O(1).\n",
        "  - It is suitable for sequential or ordered data.\n",
        "  - It iterates over values in order of insertion.\n",
        "  - It cannot retrive data directly by content.\n",
        "  - Typically uses less memory.\n",
        "- Dictionary:\n",
        "  - Stores elements as key- value pairs.\n",
        "  - Elements are accesed by their unique key.\n",
        "  - It requires hashable and unique keys.\n",
        "  - Accessing an element by key is O(1) on average.\n",
        "  - Suitable for mapping relationships or associative data.\n",
        "  - It iterates over keys, values, or key-value pairs.\n",
        "  - It can retirive data directly by using descriptive keys.\n",
        "  - Requires more memory for keys and hashing.\n",
        "- Lists are ideal when:\n",
        "\n",
        "  - The data is ordered or needs to be accessed sequentially.\n",
        "  - Retrieval is primarily based on position.\n",
        "  - You need to store duplicate values.\n",
        "- Dictionaries are ideal when:\n",
        "\n",
        "  - The data requires associative mapping (e.g., a name and their phone number).\n",
        "  - Retrieval is based on unique keys for direct access.\n",
        "  - The dataset is complex and benefits from descriptive keys for clarity.\n"
      ],
      "metadata": {
        "id": "wRkF_bJZdHYR"
      }
    },
    {
      "cell_type": "code",
      "source": [
        "# 1 Write a code to create a string with your name and print it\n",
        "\n",
        "my_name = \"Ram\"\n",
        "print(my_name)"
      ],
      "metadata": {
        "colab": {
          "base_uri": "https://localhost:8080/"
        },
        "id": "AOwE7-qHfDih",
        "outputId": "b6e4a88e-35b6-4564-a846-0422565b1a74"
      },
      "execution_count": 1,
      "outputs": [
        {
          "output_type": "stream",
          "name": "stdout",
          "text": [
            "Ram\n"
          ]
        }
      ]
    },
    {
      "cell_type": "code",
      "source": [
        "# 2 Write a code to find the length of the string \"Hello World\"\n",
        "\n",
        "my_string = \"Hello World\"\n",
        "length = len(my_string)\n",
        "print(\"The length of my string is: \", length)"
      ],
      "metadata": {
        "colab": {
          "base_uri": "https://localhost:8080/"
        },
        "id": "Vi9yYokUci0d",
        "outputId": "1272932f-b875-4eea-cf03-894dd92d5171"
      },
      "execution_count": 2,
      "outputs": [
        {
          "output_type": "stream",
          "name": "stdout",
          "text": [
            "The length of my string is:  11\n"
          ]
        }
      ]
    },
    {
      "cell_type": "code",
      "source": [
        "# 3 Write a code to slice the first 3 characters from the string \"Python Programming\"\n",
        "\n",
        "my_string = \"Python Programming\"\n",
        "sliced_string = my_string[:3]\n",
        "print(\"The sliced string is: \", sliced_string)"
      ],
      "metadata": {
        "colab": {
          "base_uri": "https://localhost:8080/"
        },
        "id": "VSTXbAemfx8I",
        "outputId": "f9df7dcd-5799-4bfc-b5ef-995c84dbc145"
      },
      "execution_count": 3,
      "outputs": [
        {
          "output_type": "stream",
          "name": "stdout",
          "text": [
            "The sliced string is:  Pyt\n"
          ]
        }
      ]
    },
    {
      "cell_type": "code",
      "source": [
        "# 4 Write a code to convert the string \"hello\" to uppercase\n",
        "\n",
        "my_string = \"hello\"\n",
        "upper_string = my_string.upper()\n",
        "print(\"The upper string is: \", upper_string)"
      ],
      "metadata": {
        "colab": {
          "base_uri": "https://localhost:8080/"
        },
        "id": "665SoDHZgvqe",
        "outputId": "b15dc1db-ed7b-4166-ad3a-401ad38a0489"
      },
      "execution_count": 4,
      "outputs": [
        {
          "output_type": "stream",
          "name": "stdout",
          "text": [
            "The upper string is:  HELLO\n"
          ]
        }
      ]
    },
    {
      "cell_type": "code",
      "source": [
        "# 5 Write a code to replace the word \"apple\" with \"orange\" in the string \"I like apple\"\n",
        "\n",
        "my_string = \"I like apple\"\n",
        "new_string = my_string.replace(\"apple\", \"orange\")\n",
        "print(\"The new string is: \", new_string)"
      ],
      "metadata": {
        "colab": {
          "base_uri": "https://localhost:8080/"
        },
        "id": "2P5dktmBg25Y",
        "outputId": "46675142-2b8d-43e0-90ac-f1c6350aff2d"
      },
      "execution_count": 5,
      "outputs": [
        {
          "output_type": "stream",
          "name": "stdout",
          "text": [
            "The new string is:  I like orange\n"
          ]
        }
      ]
    },
    {
      "cell_type": "code",
      "source": [
        "# 6  Write a code to create a list with numbers 1 to 5 and print it\n",
        "\n",
        "my_list = [1,2,3,4,5]\n",
        "print(my_list)"
      ],
      "metadata": {
        "colab": {
          "base_uri": "https://localhost:8080/"
        },
        "id": "Of1danrhhAa-",
        "outputId": "fea2729a-77ca-4a33-c998-5bd4b4d7c6d6"
      },
      "execution_count": 6,
      "outputs": [
        {
          "output_type": "stream",
          "name": "stdout",
          "text": [
            "[1, 2, 3, 4, 5]\n"
          ]
        }
      ]
    },
    {
      "cell_type": "code",
      "source": [
        "# 7 Write a code to append the number 10 to the list [1, 2, 3, 4]\n",
        "\n",
        "my_list = [1,2,3,4]\n",
        "my_list.append(10)\n",
        "print(my_list)"
      ],
      "metadata": {
        "colab": {
          "base_uri": "https://localhost:8080/"
        },
        "id": "XyZyRrsKhFti",
        "outputId": "d0bc671e-faab-49df-bfd7-5151eefc49ce"
      },
      "execution_count": 7,
      "outputs": [
        {
          "output_type": "stream",
          "name": "stdout",
          "text": [
            "[1, 2, 3, 4, 10]\n"
          ]
        }
      ]
    },
    {
      "cell_type": "code",
      "source": [
        "# 8  Write a code to remove the number 3 from the list [1, 2, 3, 4, 5]\n",
        "\n",
        "my_list = [1,2,3,4,5]\n",
        "my_list.remove(3)\n",
        "print(my_list)"
      ],
      "metadata": {
        "colab": {
          "base_uri": "https://localhost:8080/"
        },
        "id": "bQgfA-lWhMcz",
        "outputId": "f920b419-bbb1-4b31-e1c7-95f992186c6b"
      },
      "execution_count": 8,
      "outputs": [
        {
          "output_type": "stream",
          "name": "stdout",
          "text": [
            "[1, 2, 4, 5]\n"
          ]
        }
      ]
    },
    {
      "cell_type": "code",
      "source": [
        "# 9 Write a code to access the second element in the list ['a', 'b', 'c', 'd']\n",
        "\n",
        "my_list = ['a', 'b', 'c', 'd']\n",
        "second_element = my_list[1]\n",
        "print(\"The second element is: \", second_element)"
      ],
      "metadata": {
        "colab": {
          "base_uri": "https://localhost:8080/"
        },
        "id": "CkBekDw1hTfW",
        "outputId": "bc8081a8-2cc6-4c4b-f348-2d618035b52f"
      },
      "execution_count": 9,
      "outputs": [
        {
          "output_type": "stream",
          "name": "stdout",
          "text": [
            "The second element is:  b\n"
          ]
        }
      ]
    },
    {
      "cell_type": "code",
      "source": [
        "# 10 Write a code to reverse the list [10, 20, 30, 40, 50].\n",
        "\n",
        "my_list = [10, 20, 30, 40, 50]\n",
        "reversed_list = my_list[::-1]\n",
        "print(\"The reversed list is: \", reversed_list)\n"
      ],
      "metadata": {
        "colab": {
          "base_uri": "https://localhost:8080/"
        },
        "id": "a4YqEPCnhczI",
        "outputId": "501fb4a1-570a-4202-b635-066dd9d5641a"
      },
      "execution_count": 10,
      "outputs": [
        {
          "output_type": "stream",
          "name": "stdout",
          "text": [
            "The reversed list is:  [50, 40, 30, 20, 10]\n"
          ]
        }
      ]
    },
    {
      "cell_type": "code",
      "source": [
        "# 11 Write a code to create a tuple with the elements 10, 20, 30 and print it.\n",
        "\n",
        "my_tuple = (10, 20, 30)\n",
        "print(my_tuple)"
      ],
      "metadata": {
        "colab": {
          "base_uri": "https://localhost:8080/"
        },
        "id": "LCRi7-XmhjRS",
        "outputId": "46765065-9856-4da7-cf84-b69d27fe829e"
      },
      "execution_count": 11,
      "outputs": [
        {
          "output_type": "stream",
          "name": "stdout",
          "text": [
            "(10, 20, 30)\n"
          ]
        }
      ]
    },
    {
      "cell_type": "code",
      "source": [
        "# 12  Write a code to access the first element of the tuple ('apple', 'banana', 'cherry').\n",
        "\n",
        "my_tuple = ('apple', 'banana', 'cherry')\n",
        "first_element = my_tuple[0]\n",
        "print(\"The first element is: \", first_element)"
      ],
      "metadata": {
        "colab": {
          "base_uri": "https://localhost:8080/"
        },
        "id": "64v8MIbxhqft",
        "outputId": "6fb32a23-a4bd-4c76-8ae1-0cdd45b85506"
      },
      "execution_count": 12,
      "outputs": [
        {
          "output_type": "stream",
          "name": "stdout",
          "text": [
            "The first element is:  apple\n"
          ]
        }
      ]
    },
    {
      "cell_type": "code",
      "source": [
        "# 13  Write a code to count how many times the number 2 appears in the tuple (1, 2, 3, 2, 4, 2)\n",
        "\n",
        "my_tuple = (1, 2, 3, 2, 4, 2)\n",
        "count = my_tuple.count(2)\n",
        "print(\"The number of times 2 appears is: \", count)"
      ],
      "metadata": {
        "colab": {
          "base_uri": "https://localhost:8080/"
        },
        "id": "rccV2YbCiIao",
        "outputId": "4c44d2dc-7877-4f7f-90b7-3f471d67a1a7"
      },
      "execution_count": 13,
      "outputs": [
        {
          "output_type": "stream",
          "name": "stdout",
          "text": [
            "The number of times 2 appears is:  3\n"
          ]
        }
      ]
    },
    {
      "cell_type": "code",
      "source": [
        "# 14 Write a code to find the index of the element \"cat\" in the tuple ('dog', 'cat', 'rabbit')\n",
        "\n",
        "my_tuple = ('dog', 'cat', 'rabbit')\n",
        "index = my_tuple.index('cat')\n",
        "print(\"The index of cat is: \", index)"
      ],
      "metadata": {
        "colab": {
          "base_uri": "https://localhost:8080/"
        },
        "id": "hNixKKEsiNT6",
        "outputId": "339b05fa-4223-4301-aca1-1c793fa9f64b"
      },
      "execution_count": 14,
      "outputs": [
        {
          "output_type": "stream",
          "name": "stdout",
          "text": [
            "The index of cat is:  1\n"
          ]
        }
      ]
    },
    {
      "cell_type": "code",
      "source": [
        "# 15  Write a code to check if the element \"banana\" is in the tuple ('apple', 'orange', 'banana').\n",
        "\n",
        "my_tuple = ('apple', 'orange', 'banana')\n",
        "if 'banana' in my_tuple:\n",
        "    print(\"banana is in the tuple\")\n",
        "else:\n",
        "    print(\"banana is not in the tuple\")"
      ],
      "metadata": {
        "colab": {
          "base_uri": "https://localhost:8080/"
        },
        "id": "vJqsMsxOiRlM",
        "outputId": "7cdeb6ce-5774-4003-f457-f8dcb382d12c"
      },
      "execution_count": 15,
      "outputs": [
        {
          "output_type": "stream",
          "name": "stdout",
          "text": [
            "banana is in the tuple\n"
          ]
        }
      ]
    },
    {
      "cell_type": "code",
      "source": [
        "# 16 Write a code to create a set with the elements 1, 2, 3, 4, 5 and print it.\n",
        "\n",
        "my_set = {1, 2, 3, 4, 5}\n",
        "print(my_set)"
      ],
      "metadata": {
        "colab": {
          "base_uri": "https://localhost:8080/"
        },
        "id": "hJKdIln_iXeS",
        "outputId": "5fa3faeb-9bf5-4637-8f59-f044d4c638cd"
      },
      "execution_count": 16,
      "outputs": [
        {
          "output_type": "stream",
          "name": "stdout",
          "text": [
            "{1, 2, 3, 4, 5}\n"
          ]
        }
      ]
    },
    {
      "cell_type": "code",
      "source": [
        "# 17  Write a code to add the element 6 to the set {1, 2, 3, 4}.\n",
        "\n",
        "my_set = {1, 2, 3, 4}\n",
        "my_set.add(6)\n",
        "print(my_set)"
      ],
      "metadata": {
        "colab": {
          "base_uri": "https://localhost:8080/"
        },
        "id": "__0V9yiIicVC",
        "outputId": "55aecd8b-b4a2-4ddd-9e76-70fcc03588bc"
      },
      "execution_count": 17,
      "outputs": [
        {
          "output_type": "stream",
          "name": "stdout",
          "text": [
            "{1, 2, 3, 4, 6}\n"
          ]
        }
      ]
    },
    {
      "cell_type": "code",
      "source": [
        "# 18 Write a code to create a tuple with the elements 10, 20, 30 and print it.\n",
        "\n",
        "my_tuple = (10, 20, 30)\n",
        "print(my_tuple)\n"
      ],
      "metadata": {
        "colab": {
          "base_uri": "https://localhost:8080/"
        },
        "id": "0TSdzZUdimP3",
        "outputId": "04d18960-e642-4f79-bfeb-e44f88295759"
      },
      "execution_count": 18,
      "outputs": [
        {
          "output_type": "stream",
          "name": "stdout",
          "text": [
            "(10, 20, 30)\n"
          ]
        }
      ]
    },
    {
      "cell_type": "code",
      "source": [
        "# 19 Write a code to access the first element of the tuple ('apple', 'banana', 'cherry').\n",
        "\n",
        "my_tuple = ('apple', 'banana', 'cherry')\n",
        "first_element = my_tuple[0]\n",
        "print(\"The first element is: \", first_element)\n"
      ],
      "metadata": {
        "colab": {
          "base_uri": "https://localhost:8080/"
        },
        "id": "eaW1v8gVivnM",
        "outputId": "1a08d3f2-2209-4fa2-8f03-a990f8c94e42"
      },
      "execution_count": 19,
      "outputs": [
        {
          "output_type": "stream",
          "name": "stdout",
          "text": [
            "The first element is:  apple\n"
          ]
        }
      ]
    },
    {
      "cell_type": "code",
      "source": [
        "# 20 Write a code to count how many times the number 2 appears in the tuple (1, 2, 3, 2, 4, 2).\n",
        "\n",
        "my_tuple = (1, 2, 3, 2, 4, 2)\n",
        "count = my_tuple.count(2)\n",
        "print(\"The number of times 2 appears is: \", count)\n"
      ],
      "metadata": {
        "colab": {
          "base_uri": "https://localhost:8080/"
        },
        "id": "v71N_IBQi_Hf",
        "outputId": "ade04422-510c-488c-8000-2d8e217719fd"
      },
      "execution_count": 20,
      "outputs": [
        {
          "output_type": "stream",
          "name": "stdout",
          "text": [
            "The number of times 2 appears is:  3\n"
          ]
        }
      ]
    },
    {
      "cell_type": "code",
      "source": [
        "# 21  Write a code to find the index of the element \"cat\" in the tuple ('dog', 'cat', 'rabbit').\n",
        "\n",
        "my_tuple = ('dog', 'cat', 'rabbit')\n",
        "index = my_tuple.index('cat')\n",
        "print(\"The index of cat is: \", index)\n"
      ],
      "metadata": {
        "colab": {
          "base_uri": "https://localhost:8080/"
        },
        "id": "0-_BSIfkjFpo",
        "outputId": "f4a52b92-6e86-4308-8492-e50e61d9e77a"
      },
      "execution_count": 21,
      "outputs": [
        {
          "output_type": "stream",
          "name": "stdout",
          "text": [
            "The index of cat is:  1\n"
          ]
        }
      ]
    },
    {
      "cell_type": "code",
      "source": [
        "# 22 Write a code to check if the element \"banana\" is in the tuple ('apple', 'orange', 'banana').\n",
        "\n",
        "my_tuple = ('apple', 'orange', 'banana')\n",
        "if 'banana' in my_tuple:\n",
        "    print(\"banana is in the tuple\")\n",
        "else:\n",
        "    print(\"banana is not in the tuple\")\n"
      ],
      "metadata": {
        "colab": {
          "base_uri": "https://localhost:8080/"
        },
        "id": "Wcl2MiPJjL5e",
        "outputId": "ae016428-9d9b-4f65-a5a2-28f9c4d78607"
      },
      "execution_count": 22,
      "outputs": [
        {
          "output_type": "stream",
          "name": "stdout",
          "text": [
            "banana is in the tuple\n"
          ]
        }
      ]
    },
    {
      "cell_type": "code",
      "source": [
        "# 23 Write a code to create a set with the elements 1, 2, 3, 4, 5 and print it.\n",
        "\n",
        "my_set = {1, 2, 3, 4, 5}\n",
        "print(my_set)"
      ],
      "metadata": {
        "colab": {
          "base_uri": "https://localhost:8080/"
        },
        "id": "i9Fr3n2cjQ67",
        "outputId": "15662aef-0075-44fe-a866-50772bfee13b"
      },
      "execution_count": 23,
      "outputs": [
        {
          "output_type": "stream",
          "name": "stdout",
          "text": [
            "{1, 2, 3, 4, 5}\n"
          ]
        }
      ]
    },
    {
      "cell_type": "code",
      "source": [
        "# 24  Write a code to add the element 6 to the set {1, 2, 3, 4}.\n",
        "\n",
        "my_set = {1,2,3,4}\n",
        "my_set.add(6)\n",
        "print(my_set)"
      ],
      "metadata": {
        "colab": {
          "base_uri": "https://localhost:8080/"
        },
        "id": "A3YVWg3OjVxO",
        "outputId": "e5d4737e-82f5-40ee-c8a6-70ef10a5a92f"
      },
      "execution_count": 24,
      "outputs": [
        {
          "output_type": "stream",
          "name": "stdout",
          "text": [
            "{1, 2, 3, 4, 6}\n"
          ]
        }
      ]
    },
    {
      "cell_type": "code",
      "source": [],
      "metadata": {
        "id": "MFMv6X9kjsjW"
      },
      "execution_count": null,
      "outputs": []
    }
  ]
}